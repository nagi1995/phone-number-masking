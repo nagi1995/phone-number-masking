{
 "cells": [
  {
   "cell_type": "code",
   "execution_count": 1,
   "metadata": {},
   "outputs": [],
   "source": [
    "import re"
   ]
  },
  {
   "cell_type": "code",
   "execution_count": 2,
   "metadata": {},
   "outputs": [],
   "source": [
    "\"\"\"\n",
    "Assumed that phone number (country code) is of 12 digits.\n",
    "Assumed that phone number starts with a \"+\" sign.\n",
    "\n",
    "\"\"\"\n",
    "\n",
    "def mask_number(ph):\n",
    "    if ph[0] != \"+\":\n",
    "        return \"invalid phone number\"\n",
    "    \n",
    "    digits = re.sub(\"\\D\", \"\", ph)\n",
    "    \n",
    "    if len(digits) != 12: # Assuming phone number has 12 digits\n",
    "        return \"invalid phone number\"\n",
    "    \n",
    "    return \"+({})-###-###-{}\".format(digits[:2], digits[-4:])"
   ]
  },
  {
   "cell_type": "code",
   "execution_count": 4,
   "metadata": {},
   "outputs": [
    {
     "name": "stdout",
     "output_type": "stream",
     "text": [
      "+(86)-###-###-5678\n"
     ]
    }
   ],
   "source": [
    "print(mask_number(\"+86-(99)12345678\"))"
   ]
  },
  {
   "cell_type": "code",
   "execution_count": 5,
   "metadata": {},
   "outputs": [
    {
     "name": "stdout",
     "output_type": "stream",
     "text": [
      "invalid phone number\n"
     ]
    }
   ],
   "source": [
    "print(mask_number(\"86-(99)12345678\"))"
   ]
  },
  {
   "cell_type": "code",
   "execution_count": 6,
   "metadata": {},
   "outputs": [
    {
     "name": "stdout",
     "output_type": "stream",
     "text": [
      "+(49)-###-###-8018\n"
     ]
    }
   ],
   "source": [
    "print(mask_number(\"+49-89-636-48018\"))"
   ]
  },
  {
   "cell_type": "code",
   "execution_count": 7,
   "metadata": {},
   "outputs": [
    {
     "name": "stdout",
     "output_type": "stream",
     "text": [
      "invalid phone number\n"
     ]
    }
   ],
   "source": [
    "print(mask_number(\"(541) 754-3010\"))"
   ]
  },
  {
   "cell_type": "code",
   "execution_count": null,
   "metadata": {},
   "outputs": [],
   "source": []
  }
 ],
 "metadata": {
  "kernelspec": {
   "display_name": "Python 3",
   "language": "python",
   "name": "python3"
  },
  "language_info": {
   "codemirror_mode": {
    "name": "ipython",
    "version": 3
   },
   "file_extension": ".py",
   "mimetype": "text/x-python",
   "name": "python",
   "nbconvert_exporter": "python",
   "pygments_lexer": "ipython3",
   "version": "3.7.6"
  }
 },
 "nbformat": 4,
 "nbformat_minor": 4
}
